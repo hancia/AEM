{
 "cells": [
  {
   "cell_type": "code",
   "execution_count": 1,
   "metadata": {
    "collapsed": true
   },
   "outputs": [
    {
     "ename": "FileNotFoundError",
     "evalue": "[Errno 2] No such file or directory: 'instances/kroA200.tsp'",
     "output_type": "error",
     "traceback": [
      "\u001B[0;31m---------------------------------------------------------------------------\u001B[0m",
      "\u001B[0;31mFileNotFoundError\u001B[0m                         Traceback (most recent call last)",
      "\u001B[0;32m<ipython-input-1-ddb6999f91de>\u001B[0m in \u001B[0;36m<module>\u001B[0;34m\u001B[0m\n\u001B[1;32m     18\u001B[0m \u001B[0mdf\u001B[0m \u001B[0;34m=\u001B[0m \u001B[0mpd\u001B[0m\u001B[0;34m.\u001B[0m\u001B[0mDataFrame\u001B[0m\u001B[0;34m(\u001B[0m\u001B[0mcolumns\u001B[0m\u001B[0;34m=\u001B[0m\u001B[0;34m[\u001B[0m\u001B[0;34m'strategy'\u001B[0m\u001B[0;34m,\u001B[0m\u001B[0;34m'instance'\u001B[0m\u001B[0;34m,\u001B[0m \u001B[0;34m'cost'\u001B[0m\u001B[0;34m,\u001B[0m \u001B[0;34m'time'\u001B[0m\u001B[0;34m]\u001B[0m\u001B[0;34m)\u001B[0m\u001B[0;34m\u001B[0m\u001B[0;34m\u001B[0m\u001B[0m\n\u001B[1;32m     19\u001B[0m \u001B[0;32mfor\u001B[0m \u001B[0minstance_name\u001B[0m \u001B[0;32min\u001B[0m \u001B[0;34m[\u001B[0m\u001B[0;34m'kroA200'\u001B[0m\u001B[0;34m,\u001B[0m \u001B[0;34m'kroB200'\u001B[0m\u001B[0;34m]\u001B[0m\u001B[0;34m:\u001B[0m\u001B[0;34m\u001B[0m\u001B[0;34m\u001B[0m\u001B[0m\n\u001B[0;32m---> 20\u001B[0;31m     \u001B[0minstance\u001B[0m \u001B[0;34m=\u001B[0m \u001B[0mInstance\u001B[0m\u001B[0;34m(\u001B[0m\u001B[0mname\u001B[0m\u001B[0;34m=\u001B[0m\u001B[0minstance_name\u001B[0m\u001B[0;34m)\u001B[0m\u001B[0;34m\u001B[0m\u001B[0;34m\u001B[0m\u001B[0m\n\u001B[0m\u001B[1;32m     21\u001B[0m     solve_strategy1: LocalSearch = LocalSearch(\n\u001B[1;32m     22\u001B[0m         \u001B[0minstance\u001B[0m\u001B[0;34m=\u001B[0m\u001B[0minstance\u001B[0m\u001B[0;34m,\u001B[0m\u001B[0;34m\u001B[0m\u001B[0;34m\u001B[0m\u001B[0m\n",
      "\u001B[0;32m~/git/aem/api/instance.py\u001B[0m in \u001B[0;36m__init__\u001B[0;34m(self, name)\u001B[0m\n\u001B[1;32m     13\u001B[0m         \u001B[0mself\u001B[0m\u001B[0;34m.\u001B[0m\u001B[0madjacency_matrix\u001B[0m\u001B[0;34m:\u001B[0m \u001B[0mnp\u001B[0m\u001B[0;34m.\u001B[0m\u001B[0mndarray\u001B[0m \u001B[0;34m=\u001B[0m \u001B[0;32mNone\u001B[0m\u001B[0;34m\u001B[0m\u001B[0;34m\u001B[0m\u001B[0m\n\u001B[1;32m     14\u001B[0m         \u001B[0mself\u001B[0m\u001B[0;34m.\u001B[0m\u001B[0mcity_coords\u001B[0m\u001B[0;34m:\u001B[0m \u001B[0mnp\u001B[0m\u001B[0;34m.\u001B[0m\u001B[0mndarray\u001B[0m \u001B[0;34m=\u001B[0m \u001B[0;32mNone\u001B[0m\u001B[0;34m\u001B[0m\u001B[0;34m\u001B[0m\u001B[0m\n\u001B[0;32m---> 15\u001B[0;31m         \u001B[0mself\u001B[0m\u001B[0;34m.\u001B[0m\u001B[0mload_instance\u001B[0m\u001B[0;34m(\u001B[0m\u001B[0mname\u001B[0m\u001B[0;34m)\u001B[0m\u001B[0;34m\u001B[0m\u001B[0;34m\u001B[0m\u001B[0m\n\u001B[0m\u001B[1;32m     16\u001B[0m \u001B[0;34m\u001B[0m\u001B[0m\n\u001B[1;32m     17\u001B[0m     \u001B[0;32mdef\u001B[0m \u001B[0mload_instance\u001B[0m\u001B[0;34m(\u001B[0m\u001B[0mself\u001B[0m\u001B[0;34m,\u001B[0m \u001B[0mname\u001B[0m\u001B[0;34m:\u001B[0m \u001B[0mstr\u001B[0m\u001B[0;34m)\u001B[0m \u001B[0;34m->\u001B[0m \u001B[0;32mNone\u001B[0m\u001B[0;34m:\u001B[0m\u001B[0;34m\u001B[0m\u001B[0;34m\u001B[0m\u001B[0m\n",
      "\u001B[0;32m~/git/aem/api/instance.py\u001B[0m in \u001B[0;36mload_instance\u001B[0;34m(self, name)\u001B[0m\n\u001B[1;32m     16\u001B[0m \u001B[0;34m\u001B[0m\u001B[0m\n\u001B[1;32m     17\u001B[0m     \u001B[0;32mdef\u001B[0m \u001B[0mload_instance\u001B[0m\u001B[0;34m(\u001B[0m\u001B[0mself\u001B[0m\u001B[0;34m,\u001B[0m \u001B[0mname\u001B[0m\u001B[0;34m:\u001B[0m \u001B[0mstr\u001B[0m\u001B[0;34m)\u001B[0m \u001B[0;34m->\u001B[0m \u001B[0;32mNone\u001B[0m\u001B[0;34m:\u001B[0m\u001B[0;34m\u001B[0m\u001B[0;34m\u001B[0m\u001B[0m\n\u001B[0;32m---> 18\u001B[0;31m         \u001B[0mproblem\u001B[0m\u001B[0;34m:\u001B[0m \u001B[0mProblem\u001B[0m \u001B[0;34m=\u001B[0m \u001B[0mload_problem\u001B[0m\u001B[0;34m(\u001B[0m\u001B[0mInstance\u001B[0m\u001B[0;34m.\u001B[0m\u001B[0mPATH\u001B[0m\u001B[0;34m.\u001B[0m\u001B[0mformat\u001B[0m\u001B[0;34m(\u001B[0m\u001B[0mname\u001B[0m\u001B[0;34m)\u001B[0m\u001B[0;34m)\u001B[0m\u001B[0;34m\u001B[0m\u001B[0;34m\u001B[0m\u001B[0m\n\u001B[0m\u001B[1;32m     19\u001B[0m         \u001B[0mcoords\u001B[0m\u001B[0;34m:\u001B[0m \u001B[0mOrderedDict\u001B[0m \u001B[0;34m=\u001B[0m \u001B[0mproblem\u001B[0m\u001B[0;34m.\u001B[0m\u001B[0mnode_coords\u001B[0m\u001B[0;34m\u001B[0m\u001B[0;34m\u001B[0m\u001B[0m\n\u001B[1;32m     20\u001B[0m         \u001B[0md\u001B[0m \u001B[0;34m=\u001B[0m \u001B[0mproblem\u001B[0m\u001B[0;34m.\u001B[0m\u001B[0mdimension\u001B[0m\u001B[0;34m\u001B[0m\u001B[0;34m\u001B[0m\u001B[0m\n",
      "\u001B[0;32m~/anaconda3/envs/aem/lib/python3.7/site-packages/tsplib95/utils.py\u001B[0m in \u001B[0;36mload_problem\u001B[0;34m(filepath, special)\u001B[0m\n\u001B[1;32m     14\u001B[0m     \u001B[0;34m:\u001B[0m\u001B[0mrtype\u001B[0m\u001B[0;34m:\u001B[0m \u001B[0;34m:\u001B[0m\u001B[0;32mclass\u001B[0m\u001B[0;34m:\u001B[0m\u001B[0;31m`\u001B[0m\u001B[0;34m~\u001B[0m\u001B[0mProblem\u001B[0m\u001B[0;31m`\u001B[0m\u001B[0;34m\u001B[0m\u001B[0;34m\u001B[0m\u001B[0m\n\u001B[1;32m     15\u001B[0m     \"\"\"\n\u001B[0;32m---> 16\u001B[0;31m     \u001B[0;32mwith\u001B[0m \u001B[0mopen\u001B[0m\u001B[0;34m(\u001B[0m\u001B[0mfilepath\u001B[0m\u001B[0;34m)\u001B[0m \u001B[0;32mas\u001B[0m \u001B[0mf\u001B[0m\u001B[0;34m:\u001B[0m\u001B[0;34m\u001B[0m\u001B[0;34m\u001B[0m\u001B[0m\n\u001B[0m\u001B[1;32m     17\u001B[0m         \u001B[0;32mreturn\u001B[0m \u001B[0mload_problem_fromstring\u001B[0m\u001B[0;34m(\u001B[0m\u001B[0mf\u001B[0m\u001B[0;34m.\u001B[0m\u001B[0mread\u001B[0m\u001B[0;34m(\u001B[0m\u001B[0;34m)\u001B[0m\u001B[0;34m)\u001B[0m\u001B[0;34m\u001B[0m\u001B[0;34m\u001B[0m\u001B[0m\n\u001B[1;32m     18\u001B[0m \u001B[0;34m\u001B[0m\u001B[0m\n",
      "\u001B[0;31mFileNotFoundError\u001B[0m: [Errno 2] No such file or directory: 'instances/kroA200.tsp'"
     ]
    }
   ],
   "source": [
    "from collections import defaultdict\n",
    "from itertools import product\n",
    "from random import seed\n",
    "\n",
    "import seaborn as sns\n",
    "import numpy as np\n",
    "from tqdm import tqdm\n",
    "\n",
    "from strategies.greedy_cycle.cheapest_insertion import CheapestInsertion\n",
    "from api.instance import Instance\n",
    "from strategies.local_search.local_search import LocalSearch\n",
    "from strategies.local_search_candidates_moves.local_search_candidates_moves import LocalSearchWitchCandidatesMoves\n",
    "from strategies.ls_cache.local_search_with_cache import LocalSearchWitchCache\n",
    "from utils.utils import draw_solution\n",
    "import pandas as pd\n",
    "\n",
    "sns.set()\n",
    "df = pd.DataFrame(columns=['strategy','instance', 'cost', 'time'])\n",
    "for instance_name in ['kroA200', 'kroB200']:\n",
    "    instance = Instance(name=instance_name)\n",
    "    solve_strategy1: LocalSearch = LocalSearch(\n",
    "        instance=instance,\n",
    "        version=\"steepest\",\n",
    "        neighbourhood=\"edge\",\n",
    "    )\n",
    "    solve_strategy2: LocalSearchWitchCandidatesMoves = LocalSearchWitchCandidatesMoves(instance=instance)\n",
    "    solve_strategy3: LocalSearchWitchCache = LocalSearchWitchCache(instance=instance)\n",
    "    \n",
    "    solve_strategies = {}\n",
    "    solve_strategies[\"Local_search\"] = solve_strategy1\n",
    "    solve_strategies[\"LM\"] = solve_strategy3\n",
    "    solve_strategies[\"Candidate_moves\"] = solve_strategy2\n",
    "    \n",
    "    for str_id in solve_strategies.keys():\n",
    "        solve_strategy = solve_strategies[str_id]\n",
    "        solve_strategy.run(run_times=100)\n",
    "        for s, cost, time in solve_strategy.solutions:\n",
    "            df = df.append(pd.DataFrame([[str_id, instance_name, cost, time]], columns=['strategy','instance', 'cost', 'time']))\n",
    "        costs = list(map(lambda x: x[1], solve_strategy.solutions))\n",
    "        draw_solution(\n",
    "            instance=instance,\n",
    "            solution=solve_strategy.solution,\n",
    "            title=f'{str_id}, {instance.name}, distance: {solve_strategy.solution_cost}, ',\n",
    "            save_file_name=f'{instance.name}_{min(costs)}_{str_id}.png'\n",
    "        )\n",
    "df"
   ]
  },
  {
   "cell_type": "code",
   "execution_count": null,
   "metadata": {},
   "outputs": [],
   "source": [
    "df['cost'] = df['cost'].astype(float)\n",
    "df.info()"
   ]
  },
  {
   "cell_type": "code",
   "execution_count": null,
   "metadata": {},
   "outputs": [],
   "source": [
    "df_cost = df.groupby(['instance', 'strategy']).agg({'cost' : ['min','mean', 'max']}).astype(int)\n",
    "df_cost"
   ]
  },
  {
   "cell_type": "code",
   "execution_count": null,
   "metadata": {},
   "outputs": [],
   "source": [
    "df_time = df.groupby(['instance','strategy']).agg({'time' : ['min','mean', 'max']}).round(3)\n",
    "df_time"
   ]
  },
  {
   "cell_type": "code",
   "execution_count": null,
   "metadata": {},
   "outputs": [],
   "source": []
  }
 ],
 "metadata": {
  "kernelspec": {
   "name": "python3",
   "language": "python",
   "display_name": "Python 3"
  },
  "language_info": {
   "codemirror_mode": {
    "name": "ipython",
    "version": 2
   },
   "file_extension": ".py",
   "mimetype": "text/x-python",
   "name": "python",
   "nbconvert_exporter": "python",
   "pygments_lexer": "ipython2",
   "version": "2.7.6"
  }
 },
 "nbformat": 4,
 "nbformat_minor": 0
}