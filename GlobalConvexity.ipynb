{
 "cells": [
  {
   "cell_type": "code",
   "execution_count": 1,
   "metadata": {
    "collapsed": true
   },
   "outputs": [
    {
     "name": "stdout",
     "output_type": "stream",
     "text": [
      " \n",
      "                                            solution     cost      time\n",
      "0  [4, 36, 32, 12, 81, 1, 53, 39, 63, 68, 80, 24,...  12843.0  0.715787\n",
      " \n",
      "                                            solution     cost      time\n",
      "0  [4, 36, 32, 12, 81, 1, 53, 39, 63, 68, 80, 24,...  12843.0  0.715787\n",
      "0  [55, 41, 63, 43, 49, 67, 84, 38, 12, 32, 36, 4...  14322.0  0.808982\n",
      " \n",
      "                                            solution     cost      time\n",
      "0  [4, 36, 32, 12, 81, 1, 53, 39, 63, 68, 80, 24,...  12843.0  0.715787\n",
      "0  [55, 41, 63, 43, 49, 67, 84, 38, 12, 32, 36, 4...  14322.0  0.808982\n",
      "0  [28, 2, 13, 70, 40, 99, 4, 36, 32, 12, 81, 1, ...  14181.0  0.620003\n",
      " \n",
      "                                            solution     cost      time\n",
      "0  [4, 36, 32, 12, 81, 1, 53, 39, 63, 68, 80, 24,...  12843.0  0.715787\n",
      "0  [55, 41, 63, 43, 49, 67, 84, 38, 12, 32, 36, 4...  14322.0  0.808982\n",
      "0  [28, 2, 13, 70, 40, 99, 4, 36, 32, 12, 81, 1, ...  14181.0  0.620003\n",
      "0  [92, 27, 66, 63, 39, 53, 1, 43, 81, 94, 12, 38...  13860.0  0.486860\n",
      " \n",
      "                                            solution     cost      time\n",
      "0  [4, 36, 32, 12, 81, 1, 53, 39, 63, 68, 80, 24,...  12843.0  0.715787\n",
      "0  [55, 41, 63, 43, 49, 67, 84, 38, 12, 32, 36, 4...  14322.0  0.808982\n",
      "0  [28, 2, 13, 70, 40, 99, 4, 36, 32, 12, 81, 1, ...  14181.0  0.620003\n",
      "0  [92, 27, 66, 63, 39, 53, 1, 43, 81, 94, 12, 38...  13860.0  0.486860\n",
      "0  [3, 64, 25, 65, 69, 15, 17, 23, 37, 35, 58, 73...  13055.0  0.470423\n",
      " \n",
      "                                            solution     cost      time\n",
      "0  [4, 36, 32, 12, 81, 1, 53, 39, 63, 68, 80, 24,...  12843.0  0.715787\n",
      "0  [55, 41, 63, 43, 49, 67, 84, 38, 12, 32, 36, 4...  14322.0  0.808982\n",
      "0  [28, 2, 13, 70, 40, 99, 4, 36, 32, 12, 81, 1, ...  14181.0  0.620003\n",
      "0  [92, 27, 66, 63, 39, 53, 1, 43, 81, 94, 12, 38...  13860.0  0.486860\n",
      "0  [3, 64, 25, 65, 69, 15, 17, 23, 37, 35, 58, 73...  13055.0  0.470423\n",
      "0  [81, 49, 72, 68, 57, 27, 0, 62, 91, 7, 41, 55,...  12277.0  0.595847\n",
      " \n",
      "                                            solution     cost      time\n",
      "0  [4, 36, 32, 12, 81, 1, 53, 39, 63, 68, 80, 24,...  12843.0  0.715787\n",
      "0  [55, 41, 63, 43, 49, 67, 84, 38, 12, 32, 36, 4...  14322.0  0.808982\n",
      "0  [28, 2, 13, 70, 40, 99, 4, 36, 32, 12, 81, 1, ...  14181.0  0.620003\n",
      "0  [92, 27, 66, 63, 39, 53, 1, 43, 81, 94, 12, 38...  13860.0  0.486860\n",
      "0  [3, 64, 25, 65, 69, 15, 17, 23, 37, 35, 58, 73...  13055.0  0.470423\n",
      "0  [81, 49, 72, 68, 57, 27, 0, 62, 91, 7, 41, 55,...  12277.0  0.595847\n",
      "0  [52, 18, 96, 55, 79, 41, 7, 91, 5, 62, 0, 27, ...  13251.0  0.416081\n",
      " \n",
      "                                            solution     cost      time\n",
      "0  [4, 36, 32, 12, 81, 1, 53, 39, 63, 68, 80, 24,...  12843.0  0.715787\n",
      "0  [55, 41, 63, 43, 49, 67, 84, 38, 12, 32, 36, 4...  14322.0  0.808982\n",
      "0  [28, 2, 13, 70, 40, 99, 4, 36, 32, 12, 81, 1, ...  14181.0  0.620003\n",
      "0  [92, 27, 66, 63, 39, 53, 1, 43, 81, 94, 12, 38...  13860.0  0.486860\n",
      "0  [3, 64, 25, 65, 69, 15, 17, 23, 37, 35, 58, 73...  13055.0  0.470423\n",
      "0  [81, 49, 72, 68, 57, 27, 0, 62, 91, 7, 41, 55,...  12277.0  0.595847\n",
      "0  [52, 18, 96, 55, 79, 41, 7, 91, 5, 62, 0, 27, ...  13251.0  0.416081\n",
      "0  [6, 33, 45, 2, 13, 99, 47, 51, 4, 36, 12, 81, ...  13845.0  0.532591\n",
      " \n",
      "                                            solution     cost      time\n",
      "0  [4, 36, 32, 12, 81, 1, 53, 39, 63, 68, 80, 24,...  12843.0  0.715787\n",
      "0  [55, 41, 63, 43, 49, 67, 84, 38, 12, 32, 36, 4...  14322.0  0.808982\n",
      "0  [28, 2, 13, 70, 40, 99, 4, 36, 32, 12, 81, 1, ...  14181.0  0.620003\n",
      "0  [92, 27, 66, 63, 39, 53, 1, 43, 81, 94, 12, 38...  13860.0  0.486860\n",
      "0  [3, 64, 25, 65, 69, 15, 17, 23, 37, 35, 58, 73...  13055.0  0.470423\n",
      "0  [81, 49, 72, 68, 57, 27, 0, 62, 91, 7, 41, 55,...  12277.0  0.595847\n",
      "0  [52, 18, 96, 55, 79, 41, 7, 91, 5, 62, 0, 27, ...  13251.0  0.416081\n",
      "0  [6, 33, 45, 2, 13, 99, 47, 51, 4, 36, 12, 81, ...  13845.0  0.532591\n",
      "0  [82, 54, 8, 6, 11, 26, 85, 34, 61, 59, 22, 31,...  11485.0  0.460196\n",
      " \n",
      "                                            solution     cost      time\n",
      "0  [4, 36, 32, 12, 81, 1, 53, 39, 63, 68, 80, 24,...  12843.0  0.715787\n",
      "0  [55, 41, 63, 43, 49, 67, 84, 38, 12, 32, 36, 4...  14322.0  0.808982\n",
      "0  [28, 2, 13, 70, 40, 99, 4, 36, 32, 12, 81, 1, ...  14181.0  0.620003\n",
      "0  [92, 27, 66, 63, 39, 53, 1, 43, 81, 94, 12, 38...  13860.0  0.486860\n",
      "0  [3, 64, 25, 65, 69, 15, 17, 23, 37, 35, 58, 73...  13055.0  0.470423\n",
      "0  [81, 49, 72, 68, 57, 27, 0, 62, 91, 7, 41, 55,...  12277.0  0.595847\n",
      "0  [52, 18, 96, 55, 79, 41, 7, 91, 5, 62, 0, 27, ...  13251.0  0.416081\n",
      "0  [6, 33, 45, 2, 13, 99, 47, 51, 4, 36, 12, 81, ...  13845.0  0.532591\n",
      "0  [82, 54, 8, 6, 11, 26, 85, 34, 61, 59, 22, 31,...  11485.0  0.460196\n",
      "0  [61, 59, 44, 14, 16, 10, 73, 35, 98, 37, 23, 1...  12660.0  0.713544\n"
     ]
    }
   ],
   "source": [
    "from itertools import product\n",
    "\n",
    "import seaborn as sns\n",
    "from tqdm import tqdm\n",
    "\n",
    "from api.instance import Instance\n",
    "from strategies.local_search.local_search import LocalSearch\n",
    "from utils.utils import draw_solution\n",
    "import pandas as pd\n",
    "\n",
    "sns.set()\n",
    "df = pd.DataFrame(columns=['solution', 'cost', 'time'], dtype=\"float\")\n",
    "for i in range(10):\n",
    "    for instance_name in ['kroA100']: #, 'kroB100', 'kroA200', 'kroB200']:\n",
    "        instance = Instance(name=instance_name)\n",
    "        solve_strategy: LocalSearch = LocalSearch(\n",
    "            instance=instance,\n",
    "            version=\"greedy\",\n",
    "            neighbourhood=\"edge\",\n",
    "        )\n",
    "        solve_strategy.run(run_times=1)\n",
    "\n",
    "        costs = list(map(lambda x: x[1], solve_strategy.solutions))\n",
    "\n",
    "        for s, cost, time in solve_strategy.solutions:\n",
    "            df = df.append(pd.DataFrame([[s, cost, time]],columns=['solution', 'cost', 'time'], dtype=\"float\"))\n",
    "        print(\" \")\n",
    "        print(df)\n",
    "        # draw_solution(\n",
    "        #     instance=instance,\n",
    "        #     solution=solve_strategy.solution,\n",
    "        #     title=f'Local search {version}, {instance.name}, distance: {solve_strategy.solution_cost}, {neighbourhood}',\n",
    "        #     save_file_name=f'{instance.name}_{min(costs)}_{version}_{neighbourhood}.png'\n",
    "        # )\n",
    "\n"
   ]
  },
  {
   "cell_type": "code",
   "execution_count": 2,
   "metadata": {},
   "outputs": [],
   "source": [
    "def solution_similarity_vertex(s1, s2):\n",
    "    sim = 0\n",
    "    for s in range(len(s1)):\n",
    "        if s1[s] in s2:\n",
    "            sim += 1\n",
    "    return sim/len(s1)\n",
    "\n",
    "def solution_similarity_edge(s1, s2):\n",
    "    sim = 0\n",
    "    edges_s1, edges_s2 = [], []\n",
    "    for s in range(len(s1)-1):\n",
    "        edges_s1.append((s1[s], s1[s+1]))\n",
    "        edges_s2.append((s2[s], s2[s+1]))\n",
    "    for s in edges_s1:\n",
    "        if s in edges_s2 or s[::-1] in edges_s2:\n",
    "            sim += 1\n",
    "    return sim/(len(s1)-1)"
   ]
  },
  {
   "cell_type": "code",
   "execution_count": 3,
   "metadata": {},
   "outputs": [],
   "source": [
    "best_solution = df['solution'].iloc[df['cost'].idxmin(axis=0)]\n"
   ]
  },
  {
   "cell_type": "code",
   "execution_count": 4,
   "metadata": {},
   "outputs": [
    {
     "data": {
      "text/plain": "[[12843.0, 1.0],\n [14322.0, 0.38],\n [14181.0, 0.32],\n [13860.0, 0.24],\n [13055.0, 0.42],\n [12277.0, 0.32],\n [13251.0, 0.32],\n [13845.0, 0.26],\n [11485.0, 0.34],\n [12660.0, 0.44]]"
     },
     "execution_count": 4,
     "metadata": {},
     "output_type": "execute_result"
    }
   ],
   "source": [
    "results_vertex = []\n",
    "results_edge = []\n",
    "\n",
    "for sol in df.iterrows():\n",
    "    results_vertex.append([sol[1]['cost'], solution_similarity_vertex(sol[1]['solution'], best_solution)])\n",
    "    results_edge.append([sol[1]['cost'], solution_similarity_edge(sol[1]['solution'], best_solution)])\n",
    "    \n",
    "results_edge"
   ]
  },
  {
   "cell_type": "code",
   "execution_count": 5,
   "metadata": {},
   "outputs": [],
   "source": [
    "import numpy as np\n",
    "\n",
    "np_edge = np.asarray(results_edge)\n",
    "np_edge = np_edge[np.argsort(np_edge[:, 0])]\n",
    "np_vertex = np.asarray(results_vertex)\n",
    "np_vertex = np_vertex[np.argsort(np_vertex[:, 0])]"
   ]
  },
  {
   "cell_type": "code",
   "execution_count": 6,
   "metadata": {},
   "outputs": [
    {
     "data": {
      "text/plain": "[<matplotlib.lines.Line2D at 0x7f2a1b196510>]"
     },
     "execution_count": 6,
     "metadata": {},
     "output_type": "execute_result"
    },
    {
     "data": {
      "text/plain": "<Figure size 432x288 with 1 Axes>",
      "image/png": "[encoded data removed]"
     },
     "metadata": {},
     "output_type": "display_data"
    }
   ],
   "source": [
    "import matplotlib.pyplot as plt\n",
    "\n",
    "plt.plot(np_edge[:, 0], np_edge[:, 1])"
   ]
  },
  {
   "cell_type": "code",
   "execution_count": 7,
   "metadata": {},
   "outputs": [
    {
     "data": {
      "text/plain": "[<matplotlib.lines.Line2D at 0x7f2a1b0a6490>]"
     },
     "execution_count": 7,
     "metadata": {},
     "output_type": "execute_result"
    },
    {
     "data": {
      "text/plain": "<Figure size 432x288 with 1 Axes>",
      "image/png": "[encoded data removed]"
     },
     "metadata": {},
     "output_type": "display_data"
    }
   ],
   "source": [
    "plt.plot(np_vertex[:, 0], np_vertex[:, 1])"
   ]
  },
  {
   "cell_type": "code",
   "execution_count": 8,
   "metadata": {},
   "outputs": [
    {
     "data": {
      "text/plain": "[[12843.0, 1.0],\n [14322.0, 0.37999999999999995],\n [14181.0, 0.31999999999999995],\n [13860.0, 0.24000000000000005],\n [13055.0, 0.42000000000000004],\n [12277.0, 0.31999999999999995],\n [13251.0, 0.31999999999999995],\n [13845.0, 0.25999999999999995],\n [11485.0, 0.33999999999999997],\n [12660.0, 0.44000000000000006]]"
     },
     "execution_count": 8,
     "metadata": {},
     "output_type": "execute_result"
    }
   ],
   "source": [
    "results_vertex_all = []\n",
    "results_edge_all = []\n",
    "\n",
    "for sol in df.iterrows():\n",
    "    partial_vertex, partial_edge = 0, 0\n",
    "    for s in df.iterrows():\n",
    "        partial_vertex += solution_similarity_vertex(sol[1]['solution'], best_solution)\n",
    "        partial_edge += solution_similarity_edge(sol[1]['solution'], best_solution)\n",
    "    partial_edge /= len(df)\n",
    "    partial_vertex /= (len(df)-1)\n",
    "    results_vertex_all.append([sol[1]['cost'], partial_vertex])\n",
    "    results_edge_all.append([sol[1]['cost'], partial_edge])\n",
    "    \n",
    "results_edge_all"
   ]
  },
  {
   "cell_type": "code",
   "execution_count": 9,
   "metadata": {},
   "outputs": [],
   "source": [
    "np_edge_all = np.asarray(results_edge_all)\n",
    "np_edge_all = np_edge_all[np.argsort(np_edge_all[:, 0])]\n",
    "np_vertex_all = np.asarray(results_vertex_all)\n",
    "np_vertex_all = np_vertex_all[np.argsort(np_vertex_all[:, 0])]"
   ]
  },
  {
   "cell_type": "code",
   "execution_count": 10,
   "metadata": {},
   "outputs": [
    {
     "data": {
      "text/plain": "array([[1.14850000e+04, 6.75381264e-01],\n       [1.22770000e+04, 6.75381264e-01],\n       [1.26600000e+04, 7.40740741e-01],\n       [1.28430000e+04, 1.11111111e+00],\n       [1.30550000e+04, 6.97167756e-01],\n       [1.32510000e+04, 7.18954248e-01],\n       [1.38450000e+04, 5.88235294e-01],\n       [1.38600000e+04, 5.88235294e-01],\n       [1.41810000e+04, 5.44662309e-01],\n       [1.43220000e+04, 6.53594771e-01]])"
     },
     "execution_count": 10,
     "metadata": {},
     "output_type": "execute_result"
    }
   ],
   "source": [
    "np_vertex_all"
   ]
  },
  {
   "cell_type": "code",
   "execution_count": 10,
   "metadata": {},
   "outputs": [],
   "source": []
  }
 ],
 "metadata": {
  "kernelspec": {
   "name": "python3",
   "language": "python",
   "display_name": "Python 3"
  },
  "language_info": {
   "codemirror_mode": {
    "name": "ipython",
    "version": 2
   },
   "file_extension": ".py",
   "mimetype": "text/x-python",
   "name": "python",
   "nbconvert_exporter": "python",
   "pygments_lexer": "ipython2",
   "version": "2.7.6"
  }
 },
 "nbformat": 4,
 "nbformat_minor": 0
}