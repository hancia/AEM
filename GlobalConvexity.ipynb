{
 "cells": [
  {
   "cell_type": "code",
   "execution_count": 1,
   "metadata": {
    "collapsed": true
   },
   "outputs": [
    {
     "name": "stdout",
     "output_type": "stream",
     "text": [
      " \n                                            solution     cost      time\n0  [0, 92, 27, 57, 60, 24, 80, 68, 72, 49, 81, 94...  11723.0  1.471066\n"
     ]
    },
    {
     "name": "stdout",
     "output_type": "stream",
     "text": [
      " \n                                            solution     cost      time\n0  [0, 92, 27, 57, 60, 24, 80, 68, 72, 49, 81, 94...  11723.0  1.471066\n0  [4, 36, 49, 43, 1, 53, 39, 63, 66, 27, 92, 0, ...  13501.0  1.205776\n"
     ]
    },
    {
     "name": "stdout",
     "output_type": "stream",
     "text": [
      " \n                                            solution     cost      time\n0  [0, 92, 27, 57, 60, 24, 80, 68, 72, 49, 81, 94...  11723.0  1.471066\n0  [4, 36, 49, 43, 1, 53, 39, 63, 66, 27, 92, 0, ...  13501.0  1.205776\n0  [91, 0, 92, 27, 57, 24, 80, 72, 49, 43, 81, 12...  12512.0  1.097064\n"
     ]
    },
    {
     "name": "stdout",
     "output_type": "stream",
     "text": [
      " \n                                            solution     cost      time\n0  [0, 92, 27, 57, 60, 24, 80, 68, 72, 49, 81, 94...  11723.0  1.471066\n0  [4, 36, 49, 43, 1, 53, 39, 63, 66, 27, 92, 0, ...  13501.0  1.205776\n0  [91, 0, 92, 27, 57, 24, 80, 72, 49, 43, 81, 12...  12512.0  1.097064\n0  [54, 82, 33, 45, 2, 13, 47, 51, 77, 4, 36, 81,...  12448.0  0.975390\n"
     ]
    },
    {
     "name": "stdout",
     "output_type": "stream",
     "text": [
      " \n                                            solution     cost      time\n0  [0, 92, 27, 57, 60, 24, 80, 68, 72, 49, 81, 94...  11723.0  1.471066\n0  [4, 36, 49, 43, 1, 53, 39, 63, 66, 27, 92, 0, ...  13501.0  1.205776\n0  [91, 0, 92, 27, 57, 24, 80, 72, 49, 43, 81, 12...  12512.0  1.097064\n0  [54, 82, 33, 45, 2, 13, 47, 51, 77, 4, 36, 81,...  12448.0  0.975390\n0  [91, 7, 41, 55, 96, 52, 15, 21, 87, 17, 23, 37...  12763.0  0.923503\n"
     ]
    },
    {
     "name": "stdout",
     "output_type": "stream",
     "text": [
      " \n                                            solution     cost      time\n0  [0, 92, 27, 57, 60, 24, 80, 68, 72, 49, 81, 94...  11723.0  1.471066\n0  [4, 36, 49, 43, 1, 53, 39, 63, 66, 27, 92, 0, ...  13501.0  1.205776\n0  [91, 0, 92, 27, 57, 24, 80, 72, 49, 43, 81, 12...  12512.0  1.097064\n0  [54, 82, 33, 45, 2, 13, 47, 51, 77, 4, 36, 81,...  12448.0  0.975390\n0  [91, 7, 41, 55, 96, 52, 15, 21, 87, 17, 23, 37...  12763.0  0.923503\n0  [55, 96, 74, 89, 9, 83, 78, 17, 23, 37, 35, 58...  12912.0  0.668241\n"
     ]
    },
    {
     "name": "stdout",
     "output_type": "stream",
     "text": [
      " \n                                            solution     cost      time\n0  [0, 92, 27, 57, 60, 24, 80, 68, 72, 49, 81, 94...  11723.0  1.471066\n0  [4, 36, 49, 43, 1, 53, 39, 63, 66, 27, 92, 0, ...  13501.0  1.205776\n0  [91, 0, 92, 27, 57, 24, 80, 72, 49, 43, 81, 12...  12512.0  1.097064\n0  [54, 82, 33, 45, 2, 13, 47, 51, 77, 4, 36, 81,...  12448.0  0.975390\n0  [91, 7, 41, 55, 96, 52, 15, 21, 87, 17, 23, 37...  12763.0  0.923503\n0  [55, 96, 74, 89, 9, 83, 78, 17, 23, 37, 35, 58...  12912.0  0.668241\n0  [8, 56, 76, 22, 44, 14, 16, 20, 71, 83, 35, 37...  12696.0  0.827786\n"
     ]
    },
    {
     "name": "stdout",
     "output_type": "stream",
     "text": [
      " \n                                            solution     cost      time\n0  [0, 92, 27, 57, 60, 24, 80, 68, 72, 49, 81, 94...  11723.0  1.471066\n0  [4, 36, 49, 43, 1, 53, 39, 63, 66, 27, 92, 0, ...  13501.0  1.205776\n0  [91, 0, 92, 27, 57, 24, 80, 72, 49, 43, 81, 12...  12512.0  1.097064\n0  [54, 82, 33, 45, 2, 13, 47, 51, 77, 4, 36, 81,...  12448.0  0.975390\n0  [91, 7, 41, 55, 96, 52, 15, 21, 87, 17, 23, 37...  12763.0  0.923503\n0  [55, 96, 74, 89, 9, 83, 78, 17, 23, 37, 35, 58...  12912.0  0.668241\n0  [8, 56, 76, 22, 44, 14, 16, 20, 71, 83, 35, 37...  12696.0  0.827786\n0  [77, 51, 47, 99, 70, 13, 2, 42, 45, 28, 33, 80...  13434.0  0.925524\n"
     ]
    },
    {
     "name": "stdout",
     "output_type": "stream",
     "text": [
      " \n                                            solution     cost      time\n0  [0, 92, 27, 57, 60, 24, 80, 68, 72, 49, 81, 94...  11723.0  1.471066\n0  [4, 36, 49, 43, 1, 53, 39, 63, 66, 27, 92, 0, ...  13501.0  1.205776\n0  [91, 0, 92, 27, 57, 24, 80, 72, 49, 43, 81, 12...  12512.0  1.097064\n0  [54, 82, 33, 45, 2, 13, 47, 51, 77, 4, 36, 81,...  12448.0  0.975390\n0  [91, 7, 41, 55, 96, 52, 15, 21, 87, 17, 23, 37...  12763.0  0.923503\n0  [55, 96, 74, 89, 9, 83, 78, 17, 23, 37, 35, 58...  12912.0  0.668241\n0  [8, 56, 76, 22, 44, 14, 16, 20, 71, 83, 35, 37...  12696.0  0.827786\n0  [77, 51, 47, 99, 70, 13, 2, 42, 45, 28, 33, 80...  13434.0  0.925524\n0  [88, 53, 39, 1, 81, 12, 32, 36, 4, 51, 47, 99,...  13020.0  0.745975\n"
     ]
    },
    {
     "name": "stdout",
     "output_type": "stream",
     "text": [
      " \n                                            solution     cost      time\n0  [0, 92, 27, 57, 60, 24, 80, 68, 72, 49, 81, 94...  11723.0  1.471066\n0  [4, 36, 49, 43, 1, 53, 39, 63, 66, 27, 92, 0, ...  13501.0  1.205776\n0  [91, 0, 92, 27, 57, 24, 80, 72, 49, 43, 81, 12...  12512.0  1.097064\n0  [54, 82, 33, 45, 2, 13, 47, 51, 77, 4, 36, 81,...  12448.0  0.975390\n0  [91, 7, 41, 55, 96, 52, 15, 21, 87, 17, 23, 37...  12763.0  0.923503\n0  [55, 96, 74, 89, 9, 83, 78, 17, 23, 37, 35, 58...  12912.0  0.668241\n0  [8, 56, 76, 22, 44, 14, 16, 20, 71, 83, 35, 37...  12696.0  0.827786\n0  [77, 51, 47, 99, 70, 13, 2, 42, 45, 28, 33, 80...  13434.0  0.925524\n0  [88, 53, 39, 1, 81, 12, 32, 36, 4, 51, 47, 99,...  13020.0  0.745975\n0  [7, 41, 30, 79, 55, 96, 52, 15, 87, 17, 23, 37...  12319.0  1.140948\n"
     ]
    }
   ],
   "source": [
    "from itertools import product\n",
    "\n",
    "import seaborn as sns\n",
    "from tqdm import tqdm\n",
    "\n",
    "from api.instance import Instance\n",
    "from strategies.local_search.local_search import LocalSearch\n",
    "from utils.utils import draw_solution\n",
    "import pandas as pd\n",
    "\n",
    "sns.set()\n",
    "df = pd.DataFrame(columns=['solution', 'cost', 'time'], dtype=\"float\")\n",
    "for i in range(10):\n",
    "    for instance_name in ['kroA100']: #, 'kroB100', 'kroA200', 'kroB200']:\n",
    "        instance = Instance(name=instance_name)\n",
    "        solve_strategy: LocalSearch = LocalSearch(\n",
    "            instance=instance,\n",
    "            version=\"greedy\",\n",
    "            neighbourhood=\"edge\",\n",
    "        )\n",
    "        solve_strategy.run(run_times=1)\n",
    "\n",
    "        costs = list(map(lambda x: x[1], solve_strategy.solutions))\n",
    "\n",
    "        for s, cost, time in solve_strategy.solutions:\n",
    "            df = df.append(pd.DataFrame([[s, cost, time]],columns=['solution', 'cost', 'time'], dtype=\"float\"))\n",
    "        print(\" \")\n",
    "        print(df)\n",
    "        # draw_solution(\n",
    "        #     instance=instance,\n",
    "        #     solution=solve_strategy.solution,\n",
    "        #     title=f'Local search {version}, {instance.name}, distance: {solve_strategy.solution_cost}, {neighbourhood}',\n",
    "        #     save_file_name=f'{instance.name}_{min(costs)}_{version}_{neighbourhood}.png'\n",
    "        # )\n",
    "\n"
   ]
  },
  {
   "cell_type": "code",
   "execution_count": 7,
   "metadata": {},
   "outputs": [],
   "source": [
    "def solution_similarity_vertex(s1, s2):\n",
    "    sim = 0\n",
    "    for s in range(len(s1)):\n",
    "        if s1[s] in s2:\n",
    "            sim += 1\n",
    "    return sim/len(s1)\n",
    "\n",
    "\n",
    "def solution_similarity_edge(s1, s2):\n",
    "    sim = 0\n",
    "    edges_s1, edges_s2 = [], []\n",
    "    for s in range(len(s1)-1):\n",
    "        edges_s1.append((s1[s], s1[s+1]))\n",
    "        edges_s2.append((s2[s], s2[s+1]))\n",
    "    for s in edges_s1:\n",
    "        if s in edges_s2:\n",
    "            sim += 1\n",
    "    return sim/(len(s1)-1)"
   ]
  },
  {
   "cell_type": "code",
   "execution_count": 8,
   "metadata": {},
   "outputs": [],
   "source": [
    "best_solution = df['solution'].iloc[df['cost'].idxmin(axis=0)]\n"
   ]
  },
  {
   "cell_type": "code",
   "execution_count": 14,
   "metadata": {},
   "outputs": [
    {
     "data": {
      "text/plain": [
       "[[11723.0, 1.0],\n [13501.0, 0.06],\n [12512.0, 0.4],\n [12448.0, 0.02],\n [12763.0, 0.02],\n [12912.0, 0.02],\n [12696.0, 0.46],\n [13434.0, 0.3],\n [13020.0, 0.28],\n [12319.0, 0.0]]"
      ]
     },
     "execution_count": 14,
     "metadata": {},
     "output_type": "execute_result"
    }
   ],
   "source": [
    "results_vertex = []\n",
    "results_edge = []\n",
    "\n",
    "for sol in df.iterrows():\n",
    "    results_vertex.append([sol[1]['cost'], solution_similarity_vertex(sol[1]['solution'], best_solution)])\n",
    "    results_edge.append([sol[1]['cost'], solution_similarity_edge(sol[1]['solution'], best_solution)])\n",
    "    \n",
    "results_edge"
   ]
  },
  {
   "cell_type": "code",
   "execution_count": 27,
   "metadata": {},
   "outputs": [],
   "source": [
    "import numpy as np\n",
    "\n",
    "np_edge = np.asarray(results_edge)\n",
    "np_edge = np_edge[np.argsort(np_edge[:, 0])]\n",
    "np_vertex = np.asarray(results_vertex)\n",
    "np_vertex = np_vertex[np.argsort(np_vertex[:, 0])]"
   ]
  },
  {
   "cell_type": "code",
   "execution_count": 57,
   "metadata": {},
   "outputs": [
    {
     "data": {
      "text/plain": [
       "[<matplotlib.lines.Line2D at 0xdfbe90>]"
      ]
     },
     "execution_count": 57,
     "metadata": {},
     "output_type": "execute_result"
    },
    {
     "data": {
      "image/png": "[encoded data removed]",
      "text/plain": [
       "<Figure size 432x288 with 1 Axes>"
      ]
     },
     "metadata": {},
     "output_type": "display_data"
    }
   ],
   "source": [
    "import matplotlib.pyplot as plt\n",
    "\n",
    "plt.plot(np_edge[:, 0], np_edge[:, 1])"
   ]
  },
  {
   "cell_type": "code",
   "execution_count": 58,
   "metadata": {},
   "outputs": [
    {
     "data": {
      "text/plain": [
       "[<matplotlib.lines.Line2D at 0xc89770>]"
      ]
     },
     "execution_count": 58,
     "metadata": {},
     "output_type": "execute_result"
    },
    {
     "data": {
      "image/png": "[encoded data removed]",
      "text/plain": [
       "<Figure size 432x288 with 1 Axes>"
      ]
     },
     "metadata": {},
     "output_type": "display_data"
    }
   ],
   "source": [
    "plt.plot(np_vertex[:, 0], np_vertex[:, 1])"
   ]
  },
  {
   "cell_type": "code",
   "execution_count": 37,
   "metadata": {},
   "outputs": [
    {
     "data": {
      "text/plain": [
       "[[11723.0, 1.0],\n [13501.0, 0.06000000000000001],\n [12512.0, 0.39999999999999997],\n [12448.0, 0.019999999999999997],\n [12763.0, 0.019999999999999997],\n [12912.0, 0.019999999999999997],\n [12696.0, 0.4600000000000001],\n [13434.0, 0.29999999999999993],\n [13020.0, 0.2800000000000001],\n [12319.0, 0.0]]"
      ]
     },
     "execution_count": 37,
     "metadata": {},
     "output_type": "execute_result"
    }
   ],
   "source": [
    "results_vertex_all = []\n",
    "results_edge_all = []\n",
    "\n",
    "for sol in df.iterrows():\n",
    "    partial_vertex, partial_edge = 0, 0\n",
    "    for s in df.iterrows():\n",
    "        partial_vertex += solution_similarity_vertex(sol[1]['solution'], best_solution)\n",
    "        partial_edge += solution_similarity_edge(sol[1]['solution'], best_solution)\n",
    "    partial_edge /= len(df)\n",
    "    partial_vertex /= (len(df)-1)\n",
    "    results_vertex_all.append([sol[1]['cost'], partial_vertex])\n",
    "    results_edge_all.append([sol[1]['cost'], partial_edge])\n",
    "    \n",
    "results_edge_all"
   ]
  },
  {
   "cell_type": "code",
   "execution_count": 40,
   "metadata": {},
   "outputs": [],
   "source": [
    "np_edge_all = np.asarray(results_edge_all)\n",
    "np_edge_all = np_edge_all[np.argsort(np_edge_all[:, 0])]\n",
    "np_vertex_all = np.asarray(results_vertex_all)\n",
    "np_vertex_all = np_vertex_all[np.argsort(np_vertex_all[:, 0])]"
   ]
  },
  {
   "cell_type": "code",
   "execution_count": 41,
   "metadata": {},
   "outputs": [
    {
     "data": {
      "text/plain": [
       "array([[1.17230000e+04, 1.11111111e+00],\n       [1.23190000e+04, 7.62527233e-01],\n       [1.24480000e+04, 6.10021786e-01],\n       [1.25120000e+04, 7.62527233e-01],\n       [1.26960000e+04, 7.40740741e-01],\n       [1.27630000e+04, 7.18954248e-01],\n       [1.29120000e+04, 5.01089325e-01],\n       [1.30200000e+04, 5.66448802e-01],\n       [1.34340000e+04, 6.53594771e-01],\n       [1.35010000e+04, 7.18954248e-01]])"
      ]
     },
     "execution_count": 41,
     "metadata": {},
     "output_type": "execute_result"
    }
   ],
   "source": [
    "np_vertex_all"
   ]
  },
  {
   "cell_type": "code",
   "execution_count": null,
   "metadata": {},
   "outputs": [],
   "source": []
  }
 ],
 "metadata": {
  "kernelspec": {
   "display_name": "Python 2",
   "language": "python",
   "name": "python2"
  },
  "language_info": {
   "codemirror_mode": {
    "name": "ipython",
    "version": 2
   },
   "file_extension": ".py",
   "mimetype": "text/x-python",
   "name": "python",
   "nbconvert_exporter": "python",
   "pygments_lexer": "ipython2",
   "version": "2.7.6"
  }
 },
 "nbformat": 4,
 "nbformat_minor": 0
}
